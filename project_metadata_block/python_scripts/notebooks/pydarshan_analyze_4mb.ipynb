{
 "cells": [
  {
   "cell_type": "code",
   "execution_count": 2,
   "id": "367657da-0b55-4ed3-b80c-0b2b9a056b07",
   "metadata": {},
   "outputs": [],
   "source": [
    "import darshan\n",
    "from darshan.experimental.plots.heatmap_handling import *\n",
    "import matplotlib.pyplot as plt\n",
    "import pandas as pd\n",
    "from typing import Dict, Any, Tuple, Sequence, TYPE_CHECKING\n",
    "\n",
    "import sys\n",
    "\n",
    "if sys.version_info >= (3, 8):\n",
    "    from typing import TypedDict\n",
    "else:\n",
    "    from typing_extensions import TypedDict\n",
    "\n",
    "\n",
    "import numpy as np\n",
    "\n",
    "if TYPE_CHECKING:\n",
    "    import numpy.typing as npt"
   ]
  },
  {
   "cell_type": "code",
   "execution_count": 3,
   "id": "36e9e77e-69ea-4df8-9873-28e0eb4869e7",
   "metadata": {},
   "outputs": [],
   "source": [
    "def get_rd_wr_dfs_with_offset(\n",
    "    report: Any, \n",
    "    ops: Sequence[str] = [\"read\", \"write\"], \n",
    "    mod: str = \"DXT_POSIX\", \n",
    ") -> Dict[str, pd.DataFrame]:\n",
    "    \n",
    "    dict_list = report.records[mod].to_df()\n",
    "    rd_wr_dfs = {}\n",
    "    # iterate over each operation\n",
    "    for op_key in ops:\n",
    "        # mypy can't tell that these keys are in fact\n",
    "        # in the ``SegDict``, so just ignore the type\n",
    "        seg_key = op_key + \"_segments\"\n",
    "        # create empty list to store each dataframe\n",
    "        df_list = []\n",
    "        # iterate over all records/dictionaries\n",
    "        for _dict in dict_list:\n",
    "            # ignore for the same reason as above\n",
    "            seg_df = _dict[seg_key]  # type: ignore\n",
    "            if seg_df.size:\n",
    "                # create new column for the ranks\n",
    "                seg_df[\"rank\"] = _dict[\"rank\"]\n",
    "                # add the dataframe to the list\n",
    "                df_list.append(seg_df)\n",
    "\n",
    "        if df_list:\n",
    "            # concatenate the list of pandas dataframes into\n",
    "            # a single one with new row indices\n",
    "            rd_wr_dfs[op_key] = pd.concat(df_list, ignore_index=True)\n",
    "        else:\n",
    "            # if the list is empty assign an empty dataframe\n",
    "            rd_wr_dfs[op_key] = pd.DataFrame()\n",
    "\n",
    "    return rd_wr_dfs\n",
    "    \n",
    "    "
   ]
  },
  {
   "cell_type": "markdown",
   "id": "5ab630e0-f06c-483f-9258-d6fba0e069c3",
   "metadata": {},
   "source": [
    "### Load Darshan Log"
   ]
  },
  {
   "cell_type": "code",
   "execution_count": 4,
   "id": "c41715ae-681b-421b-a687-c5562e1db1d3",
   "metadata": {},
   "outputs": [],
   "source": [
    "# Load some report data\n",
    "#\n",
    "filepath_2k = \"/homes/yll6162/darshan/darshan-logs/2022/12/3/\\\n",
    "yll6162_file_iter_l_name_id1418668-1418668_12-3-4627-11471487188351852929_1.darshan\"\n",
    "\n",
    "filepath_4m = \"/homes/yll6162/darshan/darshan-logs/2022/12/5/\\\n",
    "yll6162_file_iter_l_name_id1908991-1908991_12-5-83826-12425478679868356432_1.darshan\"\n",
    "\n",
    "with darshan.DarshanReport(filepath_4m, read_all=False) as report:\n",
    "\n",
    "    # Load some report data\n",
    "    # report.mod_read_all_records('DXT_POSIX')\n",
    "    # report.mod_read_all_records('MPI-IO')\n",
    "    # or fetch all\n",
    "    report.mod_read_all_dxt_records('DXT_POSIX')\n",
    "\n",
    "    # ...\n",
    "    # Generate summaries for currently loaded data\n",
    "    # Note: aggregations are still experimental and have to be activated:\n",
    "    darshan.enable_experimental()\n",
    "    dxt_df_dict = get_rd_wr_dfs_with_offset(report = report, ops = [\"read\"])\n",
    "    dxt_df = dxt_df_dict['read']\n",
    "    # rd_wr_dfs = get_rd_wr_dfs()\n",
    "    \n"
   ]
  },
  {
   "cell_type": "markdown",
   "id": "070c8e2f-fd57-4fda-8da2-6b66778f7a0e",
   "metadata": {
    "tags": []
   },
   "source": [
    "### Data Preprocessing "
   ]
  },
  {
   "cell_type": "markdown",
   "id": "3d071c60-4d71-4acb-aefd-08c8aaf00ad6",
   "metadata": {},
   "source": [
    "##### Merge blocks"
   ]
  },
  {
   "cell_type": "code",
   "execution_count": 5,
   "id": "45d9ecec-67bb-4dc8-9d59-079a7866211a",
   "metadata": {},
   "outputs": [
    {
     "data": {
      "text/html": [
       "<div>\n",
       "<style scoped>\n",
       "    .dataframe tbody tr th:only-of-type {\n",
       "        vertical-align: middle;\n",
       "    }\n",
       "\n",
       "    .dataframe tbody tr th {\n",
       "        vertical-align: top;\n",
       "    }\n",
       "\n",
       "    .dataframe thead th {\n",
       "        text-align: right;\n",
       "    }\n",
       "</style>\n",
       "<table border=\"1\" class=\"dataframe\">\n",
       "  <thead>\n",
       "    <tr style=\"text-align: right;\">\n",
       "      <th></th>\n",
       "      <th>ori_index</th>\n",
       "      <th>offset</th>\n",
       "      <th>length</th>\n",
       "      <th>start_time</th>\n",
       "      <th>end_time</th>\n",
       "      <th>rank</th>\n",
       "      <th>block_index</th>\n",
       "    </tr>\n",
       "  </thead>\n",
       "  <tbody>\n",
       "    <tr>\n",
       "      <th>0</th>\n",
       "      <td>0</td>\n",
       "      <td>0</td>\n",
       "      <td>8</td>\n",
       "      <td>0.000824</td>\n",
       "      <td>0.000826</td>\n",
       "      <td>0</td>\n",
       "      <td>0</td>\n",
       "    </tr>\n",
       "    <tr>\n",
       "      <th>1</th>\n",
       "      <td>1</td>\n",
       "      <td>0</td>\n",
       "      <td>16</td>\n",
       "      <td>0.000836</td>\n",
       "      <td>0.000837</td>\n",
       "      <td>0</td>\n",
       "      <td>0</td>\n",
       "    </tr>\n",
       "    <tr>\n",
       "      <th>2</th>\n",
       "      <td>2</td>\n",
       "      <td>16</td>\n",
       "      <td>80</td>\n",
       "      <td>0.000838</td>\n",
       "      <td>0.000838</td>\n",
       "      <td>0</td>\n",
       "      <td>0</td>\n",
       "    </tr>\n",
       "    <tr>\n",
       "      <th>3</th>\n",
       "      <td>3</td>\n",
       "      <td>96</td>\n",
       "      <td>512</td>\n",
       "      <td>0.000851</td>\n",
       "      <td>0.000851</td>\n",
       "      <td>0</td>\n",
       "      <td>0</td>\n",
       "    </tr>\n",
       "    <tr>\n",
       "      <th>4</th>\n",
       "      <td>6</td>\n",
       "      <td>136</td>\n",
       "      <td>544</td>\n",
       "      <td>0.000912</td>\n",
       "      <td>0.000912</td>\n",
       "      <td>0</td>\n",
       "      <td>0</td>\n",
       "    </tr>\n",
       "    <tr>\n",
       "      <th>...</th>\n",
       "      <td>...</td>\n",
       "      <td>...</td>\n",
       "      <td>...</td>\n",
       "      <td>...</td>\n",
       "      <td>...</td>\n",
       "      <td>...</td>\n",
       "      <td>...</td>\n",
       "    </tr>\n",
       "    <tr>\n",
       "      <th>1489</th>\n",
       "      <td>1490</td>\n",
       "      <td>284880</td>\n",
       "      <td>512</td>\n",
       "      <td>0.006814</td>\n",
       "      <td>0.006814</td>\n",
       "      <td>0</td>\n",
       "      <td>0</td>\n",
       "    </tr>\n",
       "    <tr>\n",
       "      <th>1490</th>\n",
       "      <td>1485</td>\n",
       "      <td>285016</td>\n",
       "      <td>328</td>\n",
       "      <td>0.006793</td>\n",
       "      <td>0.006793</td>\n",
       "      <td>0</td>\n",
       "      <td>0</td>\n",
       "    </tr>\n",
       "    <tr>\n",
       "      <th>1491</th>\n",
       "      <td>1491</td>\n",
       "      <td>285344</td>\n",
       "      <td>512</td>\n",
       "      <td>0.006819</td>\n",
       "      <td>0.006819</td>\n",
       "      <td>0</td>\n",
       "      <td>0</td>\n",
       "    </tr>\n",
       "    <tr>\n",
       "      <th>1492</th>\n",
       "      <td>1474</td>\n",
       "      <td>285480</td>\n",
       "      <td>352</td>\n",
       "      <td>0.006751</td>\n",
       "      <td>0.006752</td>\n",
       "      <td>0</td>\n",
       "      <td>0</td>\n",
       "    </tr>\n",
       "    <tr>\n",
       "      <th>1493</th>\n",
       "      <td>1493</td>\n",
       "      <td>285832</td>\n",
       "      <td>512</td>\n",
       "      <td>0.006827</td>\n",
       "      <td>0.006827</td>\n",
       "      <td>0</td>\n",
       "      <td>0</td>\n",
       "    </tr>\n",
       "  </tbody>\n",
       "</table>\n",
       "<p>1494 rows × 7 columns</p>\n",
       "</div>"
      ],
      "text/plain": [
       "      ori_index  offset  length  start_time  end_time  rank  block_index\n",
       "0             0       0       8    0.000824  0.000826     0            0\n",
       "1             1       0      16    0.000836  0.000837     0            0\n",
       "2             2      16      80    0.000838  0.000838     0            0\n",
       "3             3      96     512    0.000851  0.000851     0            0\n",
       "4             6     136     544    0.000912  0.000912     0            0\n",
       "...         ...     ...     ...         ...       ...   ...          ...\n",
       "1489       1490  284880     512    0.006814  0.006814     0            0\n",
       "1490       1485  285016     328    0.006793  0.006793     0            0\n",
       "1491       1491  285344     512    0.006819  0.006819     0            0\n",
       "1492       1474  285480     352    0.006751  0.006752     0            0\n",
       "1493       1493  285832     512    0.006827  0.006827     0            0\n",
       "\n",
       "[1494 rows x 7 columns]"
      ]
     },
     "execution_count": 5,
     "metadata": {},
     "output_type": "execute_result"
    }
   ],
   "source": [
    "def merge_block(dxt_df):\n",
    "    block_ct = 0\n",
    "    df = dxt_df.sort_values(by = \"offset\", axis = 0).reset_index(names = \"ori_index\")\n",
    "    size = len(df)\n",
    "    new_reads = []\n",
    "    df[\"block_index\"] = -1\n",
    "    i = 0\n",
    "    \n",
    "    while i < size:\n",
    "        # print(i)\n",
    "        tot = df.loc[i, \"length\"]\n",
    "        start = df.loc[i, \"offset\"]\n",
    "        df.loc[i, \"block_index\"] = block_ct\n",
    "        while (i < size - 1) and (start + tot >= df.loc[i + 1, \"offset\"]):\n",
    "            tot = df.loc[i + 1, \"offset\"] + df.loc[i + 1, \"length\"] - start\n",
    "            df.loc[i + 1, \"block_index\"] = block_ct\n",
    "            i += 1\n",
    "        i += 1\n",
    "        block_ct += 1\n",
    "        new_reads.append((start, tot, block_ct))\n",
    "        # new_reads.append((start, tot))\n",
    "    merged_df = pd.DataFrame(new_reads, columns = [\"offset\", \"length\", \"block_index\"])\n",
    "    return merged_df, df\n",
    "\n",
    "\n",
    "test_df = dxt_df[dxt_df.offset < 50000]\n",
    "merged_df, dxt_df_label  = merge_block(dxt_df)\n",
    "dxt_df_label\n"
   ]
  },
  {
   "cell_type": "markdown",
   "id": "82cbea88-b100-4a42-aaa9-cba6d067e83c",
   "metadata": {},
   "source": [
    "##### File offset heat "
   ]
  },
  {
   "cell_type": "code",
   "execution_count": 10,
   "id": "a4b3370d-3cb5-4d8a-9909-86e0ef44c0dc",
   "metadata": {},
   "outputs": [
    {
     "data": {
      "text/html": [
       "<div>\n",
       "<style scoped>\n",
       "    .dataframe tbody tr th:only-of-type {\n",
       "        vertical-align: middle;\n",
       "    }\n",
       "\n",
       "    .dataframe tbody tr th {\n",
       "        vertical-align: top;\n",
       "    }\n",
       "\n",
       "    .dataframe thead th {\n",
       "        text-align: right;\n",
       "    }\n",
       "</style>\n",
       "<table border=\"1\" class=\"dataframe\">\n",
       "  <thead>\n",
       "    <tr style=\"text-align: right;\">\n",
       "      <th></th>\n",
       "      <th>offset</th>\n",
       "      <th>read_freq</th>\n",
       "    </tr>\n",
       "  </thead>\n",
       "  <tbody>\n",
       "    <tr>\n",
       "      <th>0</th>\n",
       "      <td>0</td>\n",
       "      <td>2</td>\n",
       "    </tr>\n",
       "    <tr>\n",
       "      <th>1</th>\n",
       "      <td>1</td>\n",
       "      <td>2</td>\n",
       "    </tr>\n",
       "    <tr>\n",
       "      <th>2</th>\n",
       "      <td>2</td>\n",
       "      <td>2</td>\n",
       "    </tr>\n",
       "    <tr>\n",
       "      <th>3</th>\n",
       "      <td>3</td>\n",
       "      <td>2</td>\n",
       "    </tr>\n",
       "    <tr>\n",
       "      <th>4</th>\n",
       "      <td>4</td>\n",
       "      <td>2</td>\n",
       "    </tr>\n",
       "    <tr>\n",
       "      <th>...</th>\n",
       "      <td>...</td>\n",
       "      <td>...</td>\n",
       "    </tr>\n",
       "    <tr>\n",
       "      <th>12246844</th>\n",
       "      <td>12246844</td>\n",
       "      <td>0</td>\n",
       "    </tr>\n",
       "    <tr>\n",
       "      <th>12246845</th>\n",
       "      <td>12246845</td>\n",
       "      <td>0</td>\n",
       "    </tr>\n",
       "    <tr>\n",
       "      <th>12246846</th>\n",
       "      <td>12246846</td>\n",
       "      <td>0</td>\n",
       "    </tr>\n",
       "    <tr>\n",
       "      <th>12246847</th>\n",
       "      <td>12246847</td>\n",
       "      <td>0</td>\n",
       "    </tr>\n",
       "    <tr>\n",
       "      <th>12246848</th>\n",
       "      <td>12246848</td>\n",
       "      <td>0</td>\n",
       "    </tr>\n",
       "  </tbody>\n",
       "</table>\n",
       "<p>12246849 rows × 2 columns</p>\n",
       "</div>"
      ],
      "text/plain": [
       "            offset  read_freq\n",
       "0                0          2\n",
       "1                1          2\n",
       "2                2          2\n",
       "3                3          2\n",
       "4                4          2\n",
       "...            ...        ...\n",
       "12246844  12246844          0\n",
       "12246845  12246845          0\n",
       "12246846  12246846          0\n",
       "12246847  12246847          0\n",
       "12246848  12246848          0\n",
       "\n",
       "[12246849 rows x 2 columns]"
      ]
     },
     "execution_count": 10,
     "metadata": {},
     "output_type": "execute_result"
    }
   ],
   "source": [
    "def file_offset_heatmap(dxt_df):\n",
    "    start = 0\n",
    "    dxt_df[\"end_offset\"] = dxt_df.offset + dxt_df.length\n",
    "    start = min(dxt_df[\"offset\"])\n",
    "    # end = max(dxt_df[\"end_offset\"])\n",
    "    end = 12246848\n",
    "    cols = [\"offset\", \"read_freq\"]\n",
    "    data = np.zeros((end - start + 1, 2))\n",
    "    \n",
    "    heat_df = pd.DataFrame(columns = cols, data = data)\n",
    "    heat_df[\"offset\"] = np.arange(start, end + 1)\n",
    "    heat_df.set_index(\"offset\", inplace = True)\n",
    "    \n",
    "    size = len(dxt_df)\n",
    "    i = 0\n",
    "    \n",
    "    while i < size:\n",
    "        \n",
    "        offset = dxt_df.loc[i, \"offset\"]\n",
    "        length = dxt_df.loc[i, \"length\"]\n",
    "        \n",
    "        \n",
    "        heat_df.loc[offset : offset+length + 1, \"read_freq\"] += 1\n",
    "        i += 1\n",
    "    heat_df[\"read_freq\"] = heat_df.read_freq.astype(int)\n",
    "    return heat_df.reset_index()\n",
    "        \n",
    "    \n",
    "\n",
    "heat_df = file_offset_heatmap(dxt_df)\n",
    "heat_df  \n",
    "    \n",
    "    "
   ]
  },
  {
   "cell_type": "markdown",
   "id": "b564e469-280b-49fd-899e-005db7479a1e",
   "metadata": {
    "tags": []
   },
   "source": [
    "### Visualiztion"
   ]
  },
  {
   "cell_type": "markdown",
   "id": "eff4cd75-2c2f-4037-9b34-5d7fc6771d23",
   "metadata": {},
   "source": [
    "#### Raw read segments"
   ]
  },
  {
   "cell_type": "code",
   "execution_count": 9,
   "id": "21a8472b-f4fe-4953-bda3-1b29ccd620a8",
   "metadata": {},
   "outputs": [
    {
     "data": {
      "image/png": "[encoded data removed]",
      "text/plain": [
       "<Figure size 2000x2000 with 1 Axes>"
      ]
     },
     "metadata": {},
     "output_type": "display_data"
    }
   ],
   "source": [
    "\n",
    "\n",
    "#sample bar chart for unmerged reads\n",
    "nr = 1\n",
    "nc = 1\n",
    "\n",
    "fig, ax = plt.subplots(figsize = (20, 20))\n",
    "block_i = 0 \n",
    "\n",
    "df_plot = dxt_df_label[dxt_df_label.offset < 10000].sort_values(by = \"ori_index\")\n",
    "# ax[i, j].barh(df_plot.ori_index.astype(str), df_plot.length, left = df_plot.offset, height = 0.06 * len(df_plot))\n",
    "ax.barh(df_plot.ori_index.astype(str), df_plot.length, left = df_plot.offset)\n",
    "# ax[i, j].set_yticks(list(range(min(df_plot.index), max(df_plot.index) + 1)))\n",
    "ax.grid(True)\n",
    "ax.set_xlabel('File Offset')\n",
    "ax.set_ylabel('Segment')\n",
    "block_i += 1\n",
    "\n",
    "\n",
    "plt.show()\n",
    "filename = f\"dxt_darshan_raw_segments_{nr * nc}_samples_4mb.png\"\n",
    "fig.savefig(\"figure/\" + filename)\n",
    "        \n",
    "\n",
    "\n",
    "# ax.barh(list(test_df.index), test_df.length, left = test_df.offset, height = 0.4)\n",
    "# # ax.set_xticks([0, 500, 1000, 40000, 45000, 50000])\n",
    "# # ax.set_xscale('log')\n",
    "# ax.set_yticks(list(range(test_df.index[0], test_df.index[-1] + 1)))\n",
    "# plt.grid(True)\n",
    "# plt.show()\n",
    "\n",
    "# plt.bar(courses, values, width = 0.4)\n"
   ]
  },
  {
   "cell_type": "markdown",
   "id": "6c799f4a-30d0-44e5-85be-d09c2c227425",
   "metadata": {},
   "source": [
    "##### File offset heatmap\n",
    "\n"
   ]
  },
  {
   "cell_type": "code",
   "execution_count": 81,
   "id": "93583e1e-74c2-481f-83c0-d9146a354c0a",
   "metadata": {},
   "outputs": [
    {
     "data": {
      "text/plain": [
       "array([2, 1, 3, 0, 4, 5])"
      ]
     },
     "execution_count": 81,
     "metadata": {},
     "output_type": "execute_result"
    }
   ],
   "source": [
    "heat_df.read_freq.unique()"
   ]
  },
  {
   "cell_type": "code",
   "execution_count": 11,
   "id": "d86e782f-4919-4ae3-ae00-de1523e83e75",
   "metadata": {},
   "outputs": [
    {
     "name": "stderr",
     "output_type": "stream",
     "text": [
      "/homes/yll6162/.local/lib/python3.9/site-packages/matplotlib/image.py:175: UserWarning: Data with more than 2**23 columns cannot be accurately displayed. Downsampling to less than 2**23 columns before displaying. To remove this warning, manually downsample your data.\n",
      "  warnings.warn(msg.format(n='2**23 columns'))\n"
     ]
    },
    {
     "data": {
      "image/png": "[encoded data removed]",
      "text/plain": [
       "<Figure size 2000x400 with 2 Axes>"
      ]
     },
     "metadata": {},
     "output_type": "display_data"
    }
   ],
   "source": [
    "##### File offset heatmap\n",
    "\n",
    "start = min(heat_df.offset)\n",
    "end = max(heat_df.offset)\n",
    "fig, ax = plt.subplots(figsize = (20,4))\n",
    "\n",
    "im = ax.imshow(heat_df[[\"read_freq\"]].values[np.newaxis,:], cmap=\"plasma\", aspect=\"auto\")\n",
    "cbar = ax.figure.colorbar(im, ax=ax)\n",
    "cbar.ax.set_ylabel(\"num of reads\", rotation=-90, va=\"bottom\")\n",
    "ax.set_xlim(start, end)\n",
    "ax.set_yticks([])\n",
    "ax.set_xlabel(\"File Offset\")\n",
    "ax.ticklabel_format(style='plain')\n",
    "# ax.set_xticks([round((end - start) / n * i  + start) for i in range(n)])\n",
    "\n",
    "filename = f\"dxt_darshan_file_offset_heatmap_4mb.png\"\n",
    "fig.savefig(\"figure/\" + filename)"
   ]
  },
  {
   "cell_type": "markdown",
   "id": "30acc240-9238-488f-9925-71eb8dab4a83",
   "metadata": {},
   "source": [
    "#### Merged read segments"
   ]
  },
  {
   "cell_type": "code",
   "execution_count": 12,
   "id": "12e53655-0a45-495a-8efd-1e705dc5269f",
   "metadata": {},
   "outputs": [
    {
     "data": {
      "text/html": [
       "<div>\n",
       "<style scoped>\n",
       "    .dataframe tbody tr th:only-of-type {\n",
       "        vertical-align: middle;\n",
       "    }\n",
       "\n",
       "    .dataframe tbody tr th {\n",
       "        vertical-align: top;\n",
       "    }\n",
       "\n",
       "    .dataframe thead th {\n",
       "        text-align: right;\n",
       "    }\n",
       "</style>\n",
       "<table border=\"1\" class=\"dataframe\">\n",
       "  <thead>\n",
       "    <tr style=\"text-align: right;\">\n",
       "      <th></th>\n",
       "      <th>offset</th>\n",
       "      <th>length</th>\n",
       "      <th>block_index</th>\n",
       "    </tr>\n",
       "  </thead>\n",
       "  <tbody>\n",
       "    <tr>\n",
       "      <th>0</th>\n",
       "      <td>0</td>\n",
       "      <td>286344</td>\n",
       "      <td>1</td>\n",
       "    </tr>\n",
       "  </tbody>\n",
       "</table>\n",
       "</div>"
      ],
      "text/plain": [
       "   offset  length  block_index\n",
       "0       0  286344            1"
      ]
     },
     "execution_count": 12,
     "metadata": {},
     "output_type": "execute_result"
    }
   ],
   "source": [
    "merged_df.head()"
   ]
  },
  {
   "cell_type": "code",
   "execution_count": 14,
   "id": "561265e5-dba4-42b7-a7e5-1f05e9d4e675",
   "metadata": {},
   "outputs": [
    {
     "data": {
      "image/png": "[encoded data removed]",
      "text/plain": [
       "<Figure size 1000x800 with 1 Axes>"
      ]
     },
     "metadata": {},
     "output_type": "display_data"
    }
   ],
   "source": [
    "#sample bar chart for unmerged reads\n",
    "# nr = 4\n",
    "# nc = 4\n",
    "\n",
    "# fig, ax = plt.subplots(nr, nc, figsize = (20, 20))\n",
    "# block_i = 0 \n",
    "# for i in range(0, nr):\n",
    "#     for j in range(0, nc):\n",
    "#         df_plot = merged_df[merged_df.block_index == block_i + 1]\n",
    "#         ax[i, j].barh(df_plot.index.astype(str), df_plot.length, left = df_plot.offset, height = 0.01)\n",
    "#         # ax[i, j].barh(df_plot.index.astype(str), df_plot.length, left = df_plot.offset)\n",
    "#         # ax[i, j].set_yticks(list(range(min(df_plot.index), max(df_plot.index) + 1)))\n",
    "#         ax[i, j].grid(True)\n",
    "#         ax[i, j].set_xlabel('File Offset')\n",
    "#         ax[i, j].set_ylabel('Merged Segment')\n",
    "#         block_i += 1\n",
    "\n",
    "# plt.show()\n",
    "fig, ax = plt.subplots(figsize = (10, 8))\n",
    "\n",
    "ax.bar(merged_df.offset.astype(str), merged_df.length, align=\"edge\", )\n",
    "ax.set_xlabel('File Offset')\n",
    "ax.set_ylabel('Segmeny Length')\n",
    "plt.margins(tight = True)\n",
    "fig.autofmt_xdate(rotation = 90)\n",
    "filename = f\"dxt_darshan_merged_blocks_bar_4mb.png\"\n",
    "fig.savefig(\"figure/\" + filename)\n",
    "\n",
    "\n",
    "        "
   ]
  },
  {
   "cell_type": "code",
   "execution_count": null,
   "id": "17d07713-9c64-4fb3-9b66-4c0bbfebd096",
   "metadata": {},
   "outputs": [],
   "source": []
  }
 ],
 "metadata": {
  "kernelspec": {
   "display_name": "Python 3 (ipykernel)",
   "language": "python",
   "name": "python3"
  },
  "language_info": {
   "codemirror_mode": {
    "name": "ipython",
    "version": 3
   },
   "file_extension": ".py",
   "mimetype": "text/x-python",
   "name": "python",
   "nbconvert_exporter": "python",
   "pygments_lexer": "ipython3",
   "version": "3.9.15"
  }
 },
 "nbformat": 4,
 "nbformat_minor": 5
}
